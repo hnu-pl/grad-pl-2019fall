{
 "cells": [
  {
   "cell_type": "code",
   "execution_count": 1,
   "metadata": {},
   "outputs": [],
   "source": [
    "import Control.Monad.Trans.State\n",
    "import Control.Monad.Trans.Cont\n",
    "import Control.Monad.Trans.Identity\n",
    "\n",
    "data Iterator i o r = Result r | Susp o (i -> Iterator i o r)\n",
    "\n",
    "instance (Show o, Show r) => Show (Iterator i o r) where\n",
    "  show (Result r) = \"Result \"++show r\n",
    "  show (Susp i k) = \"Susp \"++show i++\" <<...>>\"\n",
    "\n",
    "run :: Cont (Iterator i o r) r -> Cont r' (Iterator i o r)\n",
    "run e = reset $ do { r <- e; return (Result r) }\n",
    "\n",
    "yield :: o -> Cont (Iterator i o r) i\n",
    "yield e = shift $ \\k -> return (Susp e k)"
   ]
  },
  {
   "cell_type": "code",
   "execution_count": 2,
   "metadata": {},
   "outputs": [],
   "source": [
    "data Tree a = Null | Node a (Tree a) (Tree a)  deriving (Eq,Show)\n",
    "\n",
    "walkIO :: Show a => Tree a -> IO ()\n",
    "walkIO Null = return ()\n",
    "walkIO (Node c t1 t2) =\n",
    "  do walkIO t1\n",
    "     print c\n",
    "     walkIO t2\n",
    "\n",
    "walk :: Tree o -> Cont (Iterator i o r) (Tree i)\n",
    "walk Null = return Null\n",
    "walk (Node o t1 t2) =\n",
    "  do t1' <- walk t1\n",
    "     i   <- yield o\n",
    "     t2' <- walk t2\n",
    "     return $ Node i t1' t2'"
   ]
  },
  {
   "cell_type": "code",
   "execution_count": 3,
   "metadata": {},
   "outputs": [],
   "source": [
    "loop1 :: Show o => Iterator () o r -> IO ()\n",
    "loop1 (Result _) = return ()\n",
    "loop1 (Susp o k) = do print o\n",
    "                      loop1 (k ())\n",
    "\n",
    "loop2 :: Monad m => Iterator o o r -> m r\n",
    "loop2 (Result r) = return r\n",
    "loop2 (Susp o k) = loop2 (k o)\n",
    "\n",
    "loop3 :: Monad m => Iterator Int o r -> StateT Int m r\n",
    "loop3 (Result r) = return r\n",
    "loop3 (Susp _ k) = do modify (+1)\n",
    "                      i <- get\n",
    "                      loop3 (k i)\n",
    "\n",
    "loop4 :: Monad m => Iterator (Int,o) o r -> StateT Int m r\n",
    "loop4 (Result r) = return r\n",
    "loop4 (Susp o k) = do modify (+1)\n",
    "                      i <- get\n",
    "                      loop4 (k (i,o))"
   ]
  },
  {
   "cell_type": "code",
   "execution_count": 4,
   "metadata": {},
   "outputs": [],
   "source": [
    "tree1 :: Tree Char\n",
    "tree1 = Node 'b' (Node 'a' Null Null)\n",
    "                 (Node 'c' Null Null)\n",
    "\n",
    "do0 :: IO ()\n",
    "do0 = walkIO tree1\n",
    "\n",
    "do1 :: IO ()\n",
    "do1 = (`runCont` loop1) . run $ walk tree1\n",
    "\n",
    "do2 :: Monad m => m (Tree Char)\n",
    "do2 = (`runCont` loop2) . run $ walk tree1\n",
    "\n",
    "do3 :: Monad m => StateT Int m (Tree Int)\n",
    "do3 = (`runCont` loop3) . run $ walk tree1\n",
    "\n",
    "do4 :: Monad m => StateT Int m (Tree (Int,Char))\n",
    "do4 = (`runCont` loop4) . run $ walk tree1"
   ]
  },
  {
   "cell_type": "code",
   "execution_count": 5,
   "metadata": {},
   "outputs": [
    {
     "data": {
      "text/plain": [
       "'a'\n",
       "'b'\n",
       "'c'"
      ]
     },
     "metadata": {},
     "output_type": "display_data"
    }
   ],
   "source": [
    "do0"
   ]
  },
  {
   "cell_type": "code",
   "execution_count": 6,
   "metadata": {},
   "outputs": [
    {
     "data": {
      "text/plain": [
       "'a'\n",
       "'b'\n",
       "'c'"
      ]
     },
     "metadata": {},
     "output_type": "display_data"
    }
   ],
   "source": [
    "do1 -- same as do0"
   ]
  },
  {
   "cell_type": "code",
   "execution_count": 7,
   "metadata": {},
   "outputs": [
    {
     "data": {
      "text/plain": [
       "Node 'b' (Node 'a' Null Null) (Node 'c' Null Null)"
      ]
     },
     "metadata": {},
     "output_type": "display_data"
    }
   ],
   "source": [
    "do2"
   ]
  },
  {
   "cell_type": "code",
   "execution_count": 8,
   "metadata": {},
   "outputs": [
    {
     "data": {
      "text/plain": [
       "Node 2 (Node 1 Null Null) (Node 3 Null Null)"
      ]
     },
     "metadata": {},
     "output_type": "display_data"
    }
   ],
   "source": [
    "evalState do3 0"
   ]
  },
  {
   "cell_type": "code",
   "execution_count": 9,
   "metadata": {},
   "outputs": [
    {
     "data": {
      "text/plain": [
       "Node (2,'b') (Node (1,'a') Null Null) (Node (3,'c') Null Null)"
      ]
     },
     "metadata": {},
     "output_type": "display_data"
    }
   ],
   "source": [
    "evalState do4 0"
   ]
  },
  {
   "cell_type": "code",
   "execution_count": null,
   "metadata": {},
   "outputs": [],
   "source": []
  }
 ],
 "metadata": {
  "kernelspec": {
   "display_name": "Haskell",
   "language": "haskell",
   "name": "haskell"
  },
  "language_info": {
   "codemirror_mode": "ihaskell",
   "file_extension": ".hs",
   "name": "haskell",
   "pygments_lexer": "Haskell",
   "version": "8.6.5"
  }
 },
 "nbformat": 4,
 "nbformat_minor": 4
}
