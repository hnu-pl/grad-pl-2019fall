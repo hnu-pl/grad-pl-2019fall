{
 "cells": [
  {
   "cell_type": "code",
   "execution_count": 1,
   "metadata": {},
   "outputs": [],
   "source": [
    "data Exp = Val Int\n",
    "         | Add Exp Exp\n",
    "         | Sub Exp Exp\n",
    "         | Mul Exp Exp\n",
    "         | Div Exp Exp\n",
    "         deriving (Show)"
   ]
  },
  {
   "cell_type": "code",
   "execution_count": 2,
   "metadata": {},
   "outputs": [],
   "source": [
    "eval :: Exp -> Int\n",
    "eval (Val n) = n\n",
    "eval (Add e1 e2) = eval e1 + eval e2\n",
    "eval (Sub e1 e2) = eval e1 - eval e2\n",
    "eval (Mul e1 e2) = eval e1 * eval e2\n",
    "eval (Div e1 e2) = eval e1 `div` eval e2"
   ]
  },
  {
   "cell_type": "code",
   "execution_count": 3,
   "metadata": {},
   "outputs": [
    {
     "data": {
      "text/plain": [
       "35"
      ]
     },
     "metadata": {},
     "output_type": "display_data"
    }
   ],
   "source": [
    "eval (Add (Val 3) (Val 4) `Mul` Val 5)"
   ]
  },
  {
   "cell_type": "code",
   "execution_count": 4,
   "metadata": {},
   "outputs": [
    {
     "ename": "",
     "evalue": "",
     "header": "MessageHeader {mhIdentifiers = [\"8abcd87d-d392-47dd-9fd2-dc4a74ec64e5\"], mhParentHeader = Just (MessageHeader {mhIdentifiers = [\"8abcd87d-d392-47dd-9fd2-dc4a74ec64e5\"], mhParentHeader = Nothing, mhMetadata = Metadata (fromList [(\"deletedCells\",Array []),(\"cellId\",String \"838cf658-47b8-4599-892b-8ecf6e9e5217\")]), mhMessageId = UUID {uuidToString = \"94f3fa9a-d71e-4e1d-985b-550fee294f1b\"}, mhSessionId = UUID {uuidToString = \"8abcd87d-d392-47dd-9fd2-dc4a74ec64e5\"}, mhUsername = \"\", mhMsgType = ExecuteRequestMessage}), mhMetadata = Metadata (fromList []), mhMessageId = UUID {uuidToString = \"309ca971-77a4-4a42-8a57-b17508cc747b\"}, mhSessionId = UUID {uuidToString = \"8abcd87d-d392-47dd-9fd2-dc4a74ec64e5\"}, mhUsername = \"\", mhMsgType = ExecuteErrorMessage}",
     "output_type": "error",
     "traceback": [
      "divide by zero"
     ]
    }
   ],
   "source": [
    "eval (Div (Val 3) (Val 0)) -- 이런 경우는 Nothing을 처리하자"
   ]
  },
  {
   "cell_type": "markdown",
   "metadata": {},
   "source": [
    "```haskell\n",
    "data Maybe a = Nothing | Just a \n",
    "```"
   ]
  },
  {
   "cell_type": "code",
   "execution_count": 5,
   "metadata": {},
   "outputs": [],
   "source": [
    "{-\n",
    "instance Monad Maybe where\n",
    "  Nothing >>= _ = Nothing\n",
    "  Just v  >>= f = f v\n",
    "\n",
    "  return = Just\n",
    "-}\n",
    "\n",
    "evm :: Exp -> Maybe Int\n",
    "evm (Val n) = return n\n",
    "evm (Add e1 e2) = do v1 <- evm e1\n",
    "                     v2 <- evm e2\n",
    "                     return (v1+v2)\n",
    "evm (Sub e1 e2) = do v1 <- evm e1\n",
    "                     v2 <- evm e2\n",
    "                     return (v1-v2)\n",
    "evm (Mul e1 e2) = do v1 <- evm e1\n",
    "                     v2 <- evm e2\n",
    "                     return (v1*v2)\n",
    "evm (Div e1 e2) = do v1 <- evm e1\n",
    "                     v2 <- evm e2\n",
    "                     if v2==0 then Nothing\n",
    "                              else return (v1*v2)\n",
    "\n",
    "{-\n",
    "evm :: Exp -> Maybe Int\n",
    "evm (Val n) = return n\n",
    "evm (Add e1 e2) = evm e1 >>= \\v1 ->\n",
    "                  evm e2 >>= \\v2 ->\n",
    "                  return (v1+v2)\n",
    "evm (Sub e1 e2) = evm e1 >>= \\v1 ->\n",
    "                  evm e2 >>= \\v2 ->\n",
    "                  return (v1-v2)\n",
    "evm (Mul e1 e2) = evm e1 >>= \\v1 ->\n",
    "                  evm e2 >>= \\v2 ->\n",
    "                  return (v1*v2)\n",
    "evm (Div e1 e2) = evm e1 >>= \\v1 ->\n",
    "                  evm e2 >>= \\v2 ->\n",
    "                  if v2==0 then Nothing\n",
    "                           else return (v1*v2)\n",
    "-}"
   ]
  },
  {
   "cell_type": "code",
   "execution_count": 6,
   "metadata": {},
   "outputs": [
    {
     "data": {
      "text/plain": [
       "Just 35"
      ]
     },
     "metadata": {},
     "output_type": "display_data"
    }
   ],
   "source": [
    "evm (Add (Val 3) (Val 4) `Mul` Val 5)"
   ]
  },
  {
   "cell_type": "code",
   "execution_count": 7,
   "metadata": {},
   "outputs": [
    {
     "data": {
      "text/plain": [
       "Nothing"
      ]
     },
     "metadata": {},
     "output_type": "display_data"
    }
   ],
   "source": [
    "evm (Div (Val 3) (Val 0))"
   ]
  },
  {
   "cell_type": "code",
   "execution_count": 8,
   "metadata": {},
   "outputs": [],
   "source": [
    "evM :: Exp -> Maybe Int\n",
    "evM (Val n) = Just n\n",
    "evM (Add e1 e2) =\n",
    "  case m1 of\n",
    "    Nothing -> Nothing\n",
    "    Just v1 -> case m2 of\n",
    "                 Nothing -> Nothing\n",
    "                 Just v2 -> Just(v1 + v2)\n",
    "  where m1 = evM e1\n",
    "        m2 = evM e2\n",
    "evM (Sub e1 e2) =\n",
    "  case m1 of\n",
    "    Nothing -> Nothing\n",
    "    Just v1 -> case m2 of\n",
    "                 Nothing -> Nothing\n",
    "                 Just v2 -> Just(v1 - v2)\n",
    "  where m1 = evM e1\n",
    "        m2 = evM e2\n",
    "evM (Mul e1 e2) =\n",
    "  case m1 of\n",
    "    Nothing -> Nothing\n",
    "    Just v1 -> case m2 of\n",
    "                 Nothing -> Nothing\n",
    "                 Just v2 -> Just(v1 * v2)\n",
    "  where m1 = evM e1\n",
    "        m2 = evM e2\n",
    "evM (Div e1 e2) =\n",
    "  case m1 of\n",
    "    Nothing -> Nothing\n",
    "    Just v1 -> case m2 of\n",
    "                 Nothing -> Nothing\n",
    "                 Just v2 -> if v2==0 then Nothing\n",
    "                                     else Just(v1 `div` v2)\n",
    "  where m1 = evM e1\n",
    "        m2 = evM e2"
   ]
  },
  {
   "cell_type": "code",
   "execution_count": 9,
   "metadata": {},
   "outputs": [
    {
     "data": {
      "text/plain": [
       "Just 35"
      ]
     },
     "metadata": {},
     "output_type": "display_data"
    }
   ],
   "source": [
    "evM (Add (Val 3) (Val 4) `Mul` Val 5)"
   ]
  },
  {
   "cell_type": "code",
   "execution_count": 10,
   "metadata": {},
   "outputs": [
    {
     "data": {
      "text/plain": [
       "Nothing"
      ]
     },
     "metadata": {},
     "output_type": "display_data"
    }
   ],
   "source": [
    "evM (Div (Val 3) (Val 0))"
   ]
  },
  {
   "cell_type": "markdown",
   "metadata": {},
   "source": [
    "```haskell\n",
    "data Either a b = Left a | Right b \n",
    "```"
   ]
  },
  {
   "cell_type": "code",
   "execution_count": 14,
   "metadata": {},
   "outputs": [],
   "source": [
    "{- (>>=) :: Either String Int\n",
    "      -> (Int -> Either String Int)\n",
    "      -> Either String Int\n",
    "Left er >>= _  = Left er\n",
    "Right v >>= f  = f v\n",
    "\n",
    "return :: Int -> Either String Int\n",
    "return = Right\n",
    "-}\n",
    "\n",
    "eve :: Exp -> Either String Int\n",
    "eve (Val n) = return n\n",
    "eve (Add e1 e2) = do v1 <- eve e1\n",
    "                     v2 <- eve e2\n",
    "                     return (v1+v2)\n",
    "eve (Sub e1 e2) = do v1 <- eve e1\n",
    "                     v2 <- eve e2\n",
    "                     return (v1-v2)\n",
    "eve (Mul e1 e2) = do v1 <- eve e1\n",
    "                     v2 <- eve e2\n",
    "                     return (v1*v2)\n",
    "eve (Div e1 e2) = do v1 <- eve e1\n",
    "                     v2 <- eve e2\n",
    "                     if v2==0 then Left \"Div by 0\"\n",
    "                              else return (v1*v2)"
   ]
  },
  {
   "cell_type": "code",
   "execution_count": 15,
   "metadata": {},
   "outputs": [
    {
     "data": {
      "text/plain": [
       "Right 35"
      ]
     },
     "metadata": {},
     "output_type": "display_data"
    }
   ],
   "source": [
    "eve (Add (Val 3) (Val 4) `Mul` Val 5)"
   ]
  },
  {
   "cell_type": "code",
   "execution_count": 16,
   "metadata": {},
   "outputs": [
    {
     "data": {
      "text/plain": [
       "Left \"Div by 0\""
      ]
     },
     "metadata": {},
     "output_type": "display_data"
    }
   ],
   "source": [
    "eve (Div (Val 3) (Val 0))"
   ]
  },
  {
   "cell_type": "code",
   "execution_count": 12,
   "metadata": {},
   "outputs": [],
   "source": [
    "evE :: Exp -> Either String Int\n",
    "evE (Val n) = Right n\n",
    "evE (Add e1 e2) =\n",
    "  case m1 of\n",
    "    Left _   -> m1\n",
    "    Right v1 -> case m2 of\n",
    "                 Left _ -> m2\n",
    "                 Right v2 -> Right(v1 + v2)\n",
    "  where m1 = evE e1\n",
    "        m2 = evE e2\n",
    "evE (Sub e1 e2) =\n",
    "  case m1 of\n",
    "    Left _ -> m1\n",
    "    Right v1 -> case m2 of\n",
    "                 Left _ -> m2\n",
    "                 Right v2 -> Right(v1 - v2)\n",
    "  where m1 = evE e1\n",
    "        m2 = evE e2\n",
    "evE (Mul e1 e2) =\n",
    "  case m1 of\n",
    "    Left _ -> m1\n",
    "    Right v1 -> case m2 of\n",
    "                 Left _ -> m2\n",
    "                 Right v2 -> Right(v1 * v2)\n",
    "  where m1 = evE e1\n",
    "        m2 = evE e2\n",
    "evE (Div e1 e2) =\n",
    "  case m1 of\n",
    "    Left _ -> m1\n",
    "    Right v1 -> case m2 of\n",
    "                 Left _ -> m2\n",
    "                 Right v2 -> if v2==0 then Left \"Div by 0\"\n",
    "                                      else Right(v1 `div` v2)\n",
    "  where m1 = evE e1\n",
    "        m2 = evE e2"
   ]
  },
  {
   "cell_type": "markdown",
   "metadata": {},
   "source": [
    "여러가지 계산결과의 가능성을 시뮬레이션하는 모나드를 리스트로"
   ]
  },
  {
   "cell_type": "code",
   "execution_count": 20,
   "metadata": {},
   "outputs": [],
   "source": [
    "graph = [('a','b'),('a','d')\n",
    "        ,('b','c')\n",
    "        ,('c','d')\n",
    "        ,('d','e')\n",
    "        ,('e','c')]\n",
    "\n",
    "step :: Char -> [Char]\n",
    "step x = [y1 | (x1,y1)<-graph, x==x1]"
   ]
  },
  {
   "cell_type": "code",
   "execution_count": 28,
   "metadata": {},
   "outputs": [],
   "source": [
    "path3 :: Char -> [Char]\n",
    "path3 x = do x1 <- step x\n",
    "             x2 <- step x1\n",
    "             x3 <- step x2\n",
    "             return x3\n",
    "\n",
    "path :: Int -> Char -> [Char]\n",
    "path 0 x = return x\n",
    "path n x = do y <- step x\n",
    "              path (n-1) y"
   ]
  },
  {
   "cell_type": "code",
   "execution_count": 29,
   "metadata": {},
   "outputs": [
    {
     "data": {
      "text/plain": [
       "\"dc\""
      ]
     },
     "metadata": {},
     "output_type": "display_data"
    }
   ],
   "source": [
    "path3 'a'"
   ]
  },
  {
   "cell_type": "code",
   "execution_count": 34,
   "metadata": {},
   "outputs": [
    {
     "data": {
      "text/plain": [
       "\"a\""
      ]
     },
     "metadata": {},
     "output_type": "display_data"
    },
    {
     "data": {
      "text/plain": [
       "\"bd\""
      ]
     },
     "metadata": {},
     "output_type": "display_data"
    },
    {
     "data": {
      "text/plain": [
       "\"ce\""
      ]
     },
     "metadata": {},
     "output_type": "display_data"
    },
    {
     "data": {
      "text/plain": [
       "\"dc\""
      ]
     },
     "metadata": {},
     "output_type": "display_data"
    }
   ],
   "source": [
    "path 0 'a'\n",
    "path 1 'a'\n",
    "path 2 'a'\n",
    "path 3 'a'"
   ]
  },
  {
   "cell_type": "code",
   "execution_count": null,
   "metadata": {},
   "outputs": [],
   "source": []
  }
 ],
 "metadata": {
  "kernelspec": {
   "display_name": "Haskell",
   "language": "haskell",
   "name": "haskell"
  },
  "language_info": {
   "codemirror_mode": "ihaskell",
   "file_extension": ".hs",
   "name": "haskell",
   "pygments_lexer": "Haskell",
   "version": "8.6.5"
  }
 },
 "nbformat": 4,
 "nbformat_minor": 4
}
